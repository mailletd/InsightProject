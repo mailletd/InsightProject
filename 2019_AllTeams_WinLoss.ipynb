{
 "cells": [
  {
   "cell_type": "code",
   "execution_count": 621,
   "metadata": {},
   "outputs": [],
   "source": [
    "from bs4 import BeautifulSoup\n",
    "from bs4 import BeautifulSoup, NavigableString, Tag\n",
    "import urllib.request\n",
    "import requests\n",
    "import pandas as pd\n",
    "import warnings; warnings.simplefilter('ignore')"
   ]
  },
  {
   "cell_type": "code",
   "execution_count": 622,
   "metadata": {},
   "outputs": [],
   "source": [
    "response = requests.get('https://www.baseball-reference.com/leagues/MLB/2019-schedule.shtml')\n",
    "soup = BeautifulSoup(response.text,'html.parser')"
   ]
  },
  {
   "cell_type": "code",
   "execution_count": 623,
   "metadata": {},
   "outputs": [],
   "source": [
    "alldates = soup.find_all('h3')"
   ]
  },
  {
   "cell_type": "code",
   "execution_count": 624,
   "metadata": {},
   "outputs": [],
   "source": [
    "data = pd.DataFrame(columns = ['Date','VisitingTeam','VisitingScore','HomeTeam','HomeScore'])"
   ]
  },
  {
   "cell_type": "code",
   "execution_count": 625,
   "metadata": {},
   "outputs": [],
   "source": [
    "### Scrape game results for all MLB games in 2019\n",
    "\n",
    "datelist=[]\n",
    "VisitingTeamList = []\n",
    "VisitingTeamScoreList = []\n",
    "HomeTeamList = []\n",
    "HomeScoreList = []\n",
    "flag = 0 ## to break out of loops\n",
    "\n",
    "for header in soup.find_all('h3')[8:190]: ## Games start at 8\n",
    "    \n",
    "    nextNode = header\n",
    "    while True:\n",
    "        nextNode = nextNode.nextSibling\n",
    "        if nextNode is None:\n",
    "            break\n",
    "        if (isinstance(nextNode, Tag) and flag == 0):\n",
    "            if nextNode.name == \"h2\": \n",
    "                break\n",
    "            if header.text == 'Today\\'s Games': ## Stop scraping when getting to Today's date\n",
    "                flag +=1\n",
    "                break\n",
    "            datelist.append(header.text) ## Append date\n",
    "            try:\n",
    "                VisitingTeamList.append(nextNode.get_text().splitlines()[1])  \n",
    "            except IndexError:\n",
    "                continue\n",
    "            try: \n",
    "                VisitingTeamScoreList.append(nextNode.get_text().splitlines()[2])\n",
    "            except IndexError:\n",
    "                continue\n",
    "            try: \n",
    "                HomeTeamList.append(nextNode.get_text().splitlines()[4])\n",
    "            except IndexError:\n",
    "                continue\n",
    "            try:\n",
    "                HomeScoreList.append(nextNode.get_text().splitlines()[5])\n",
    "            except IndexError:\n",
    "                continue\n",
    "        \n",
    "            \n",
    " "
   ]
  },
  {
   "cell_type": "code",
   "execution_count": 626,
   "metadata": {},
   "outputs": [],
   "source": [
    "## Above scraping gets one instance of the date in excess, remove it\n",
    "for x in set(datelist):\n",
    "    datelist.remove(x)\n",
    "data['Date'] = datelist\n",
    "data['VisitingTeam'] = pd.Series(VisitingTeamList)\n",
    "data['VisitingScore'] = pd.Series(VisitingTeamScoreList)\n",
    "data['HomeTeam'] = pd.Series(HomeTeamList)\n",
    "data['HomeScore'] = pd.Series(HomeScoreList)"
   ]
  },
  {
   "cell_type": "code",
   "execution_count": 627,
   "metadata": {},
   "outputs": [],
   "source": [
    "data['VisitingScore']=data['VisitingScore'].map(lambda x: x.strip(' ()'))\n",
    "data['HomeScore']=data['HomeScore'].map(lambda x: x.strip(' ()'))\n",
    "data['Date'] = pd.to_datetime(data['Date'])"
   ]
  },
  {
   "cell_type": "code",
   "execution_count": 628,
   "metadata": {},
   "outputs": [],
   "source": [
    "data.loc[data['HomeScore'] > data['VisitingScore'],'HomeWin'] = 1\n",
    "data.loc[data['HomeScore'] < data['VisitingScore'],'HomeWin'] = 0"
   ]
  },
  {
   "cell_type": "code",
   "execution_count": 629,
   "metadata": {},
   "outputs": [],
   "source": [
    "data['VisitingTeam'] = data['VisitingTeam'].str.strip()\n",
    "data['HomeTeam'] = data['HomeTeam'].str.strip()\n",
    "intteamdict = {'Toronto Blue Jays': 'Toronto', 'New York Yankees': 'Yankees', 'Boston Red Sox': 'Redsox', 'Baltimore Orioles': 'Orioles'}\n",
    "\n",
    "def WinColumn(team): #Figure out if each team won or lost based on whether they were home or away\n",
    "    \n",
    "    data[intteamdict[team] + 'Win'] = \"\"\n",
    "    data.loc[(data['HomeTeam'] == team) & (data['HomeWin'] == 1), intteamdict[team] + 'Win'] = 1\n",
    "    data.loc[(data['HomeTeam'] == team) & (data['HomeWin'] == 0), intteamdict[team] + 'Win'] = -1\n",
    "    data.loc[(data['VisitingTeam'] == team) & (data['HomeWin'] == 0), intteamdict[team] + 'Win'] = 1\n",
    "    data.loc[(data['VisitingTeam'] == team) & (data['HomeWin'] == 1), intteamdict[team] + 'Win'] = -1\n",
    "    \n",
    "WinColumn('Toronto Blue Jays')\n",
    "WinColumn('New York Yankees')\n",
    "WinColumn('Boston Red Sox')\n",
    "WinColumn('Baltimore Orioles')\n"
   ]
  },
  {
   "cell_type": "code",
   "execution_count": null,
   "metadata": {},
   "outputs": [],
   "source": []
  },
  {
   "cell_type": "code",
   "execution_count": 630,
   "metadata": {},
   "outputs": [],
   "source": [
    "### Create team specific df\n",
    "Toronto_df = data.loc[data['TorontoWin'] != \"\"]\n",
    "Orioles_df = data.loc[data['OriolesWin'] != \"\"]\n",
    "Yankees_df = data.loc[data['YankeesWin'] != \"\"]\n",
    "Redsox_df = data.loc[data['RedsoxWin'] != \"\"]\n",
    "\n",
    "Toronto_df['GameNumber'] = list(range(1,toronto_df.shape[0]+1))\n",
    "Orioles_df['GameNumber'] = list(range(1,orioles_df.shape[0]+1))\n",
    "Yankees_df['GameNumber'] = list(range(1,yankees_df.shape[0]+1))\n",
    "Redsox_df['GameNumber'] = list(range(1,redsox_df.shape[0]+1))"
   ]
  },
  {
   "cell_type": "code",
   "execution_count": null,
   "metadata": {},
   "outputs": [],
   "source": []
  },
  {
   "cell_type": "code",
   "execution_count": 631,
   "metadata": {},
   "outputs": [],
   "source": [
    "## Create WinLoss and WinLoss10 columns\n",
    "\n",
    "def WinLossColumn(team_df,team):\n",
    "    if team == 'Toronto':\n",
    "        team_df.loc[team_df['GameNumber'] ==1,'WinLossRatio'] = 0\n",
    "        team_df.loc[team_df['GameNumber'] ==1,'WinLossRatioLast10'] = 0\n",
    "        team_df.loc[team_df['GameNumber'].isin(list(range(2, team_df.shape[0]+1))),'WinLossRatio'] = team_df[team + 'Win'].cumsum()[:-1].values\n",
    "        team_df.loc[team_df['GameNumber'].isin(list(range(2, team_df.shape[0]+1))),'WinLossRatioLast10'] = team_df[team + 'Win'].rolling(min_periods=1, window=10).sum()[:-1].values\n",
    "    \n",
    "    else:\n",
    "        team_df.loc[team_df['GameNumber'] ==1,team+'WinLossRatio'] = 0\n",
    "        team_df.loc[team_df['GameNumber'] ==1,team+'WinLossRatioLast10'] = 0\n",
    "        team_df.loc[team_df['GameNumber'].isin(list(range(2, team_df.shape[0]+1))),team+'WinLossRatio'] = team_df[team + 'Win'].cumsum()[:-1].values\n",
    "        team_df.loc[team_df['GameNumber'].isin(list(range(2, team_df.shape[0]+1))),team+'WinLossRatioLast10'] = team_df[team + 'Win'].rolling(min_periods=1, window=10).sum()[:-1].values\n",
    "    \n",
    "\n",
    "WinLossColumn(Toronto_df,'Toronto')\n",
    "WinLossColumn(Orioles_df,'Orioles')\n",
    "WinLossColumn(Redsox_df,'Redsox')\n",
    "WinLossColumn(Yankees_df,'Yankees')"
   ]
  },
  {
   "cell_type": "code",
   "execution_count": 632,
   "metadata": {},
   "outputs": [],
   "source": [
    "## Set datetime so you are able to merge on it\n",
    "def setdatetime(df):\n",
    "    df['Date'] = pd.to_datetime(df['Date'],format= '%Y-%m-%d')\n",
    "    df.set_index('Date',inplace=True,drop=True)\n",
    "\n",
    "setdatetime(Toronto_df)\n",
    "setdatetime(Yankees_df)\n",
    "setdatetime(Orioles_df)\n",
    "setdatetime(Redsox_df)\n"
   ]
  },
  {
   "cell_type": "code",
   "execution_count": 633,
   "metadata": {},
   "outputs": [],
   "source": [
    "## The only columns you need for other teams are Date and WinLossRatio\n",
    "Redsox_df = Redsox_df[['RedsoxWinLossRatio','RedsoxWinLossRatioLast10']]\n",
    "Orioles_df = Orioles_df[['OriolesWinLossRatio','OriolesWinLossRatioLast10']]\n",
    "Yankees_df = Yankees_df[['YankeesWinLossRatio','YankeesWinLossRatioLast10']]"
   ]
  },
  {
   "cell_type": "code",
   "execution_count": 634,
   "metadata": {},
   "outputs": [],
   "source": [
    "##Merge on date\n",
    "Toronto_df = pd.merge_asof(Toronto_df, Redsox_df, left_index=True, right_index=True)\n",
    "Toronto_df = pd.merge_asof(Toronto_df, Orioles_df, left_index=True, right_index=True)\n",
    "Toronto_df = pd.merge_asof(Toronto_df, Yankees_df, left_index=True, right_index=True)\n"
   ]
  },
  {
   "cell_type": "code",
   "execution_count": 635,
   "metadata": {},
   "outputs": [],
   "source": [
    "## Create GamesBack column \n",
    "Toronto_df['GamesBack'] = Toronto_df['WinLossRatio'] - Toronto_df[['YankeesWinLossRatio','OriolesWinLossRatio','RedsoxWinLossRatio']].max(axis=1) "
   ]
  },
  {
   "cell_type": "code",
   "execution_count": 636,
   "metadata": {},
   "outputs": [],
   "source": [
    "## Use same team names as historical data\n",
    "teamdict = {\n",
    "\"Arizona DBacks\":\"ARI\",\n",
    "\"Atlanta Braves\":\"ATL\",\n",
    "\"Baltimore Orioles\":\"BAL\",\n",
    "\"Boston Red Sox\":\"BOS\",\n",
    "\"Chicago Cubs\":\"CHN\",\n",
    "\"Chicago White Sox\":\"CHA\",\n",
    "\"Cincinnati Reds\":\"CIN\",\n",
    "\"Cleveland Indians\":\"CLE\",\n",
    "\"Colorado Rockies\":\"COL\",\n",
    "\"Detroit Tigers\":\"DET\",\n",
    "\"Houston Astros\":\"HOU\",\n",
    "\"Kansas City Royals\":\"KCA\",\n",
    "\"Los Angeles Angels\":\"LAA\",\n",
    "\"Los Angeles Dodgers\":\"LAN\",\n",
    "\"Miami Marlins\":\"FLO\",\n",
    "\"Milwaukee Brewers\":\"MIL\",\n",
    "\"Minnesota Twins\":\"MIN\",\n",
    "\"New York Mets\":\"NYN\",\n",
    "\"New York Yankees\":\"NYA\",\n",
    "\"Oakland Athletics\":\"OAK\",\n",
    "\"Philadelphia Phillies\":\"PHI\",\n",
    "\"Pittsburgh Pirates\":\"PIT\",\n",
    "\"San Diego Padres\":\"SDN\",\n",
    "\"San Francisco Giants\":\"SFN\",\n",
    "\"Seattle Mariners\":\"SEA\",\n",
    "\"St. Louis Cardinals\":\"SLN\",\n",
    "\"Tampa Bay Rays\":\"TBA\",\n",
    "\"Texas Rangers\":\"TEX\",\n",
    "\"Toronto Blue Jays\":\"TOR\",\n",
    "\"Washington Nationals\":\"WAS\",\n",
    "}\n",
    "\n",
    "Toronto_df['HomeTeam'] = Toronto_df['HomeTeam'].map(teamdict)\n",
    "Toronto_df['VisitingTeam'] = Toronto_df['VisitingTeam'].map(teamdict)"
   ]
  },
  {
   "cell_type": "code",
   "execution_count": 637,
   "metadata": {},
   "outputs": [],
   "source": [
    "Toronto_df = Toronto_df[['WinLossRatio','WinLossRatioLast10','RedsoxWinLossRatio','OriolesWinLossRatio','YankeesWinLossRatio','GamesBack','VisitingTeam']]"
   ]
  },
  {
   "cell_type": "code",
   "execution_count": 638,
   "metadata": {},
   "outputs": [],
   "source": [
    "Toronto_df.to_csv('Toronto2019WinLoss.csv')"
   ]
  },
  {
   "cell_type": "code",
   "execution_count": null,
   "metadata": {},
   "outputs": [],
   "source": []
  },
  {
   "cell_type": "code",
   "execution_count": null,
   "metadata": {},
   "outputs": [],
   "source": []
  },
  {
   "cell_type": "code",
   "execution_count": null,
   "metadata": {},
   "outputs": [],
   "source": []
  }
 ],
 "metadata": {
  "kernelspec": {
   "display_name": "Python 3",
   "language": "python",
   "name": "python3"
  },
  "language_info": {
   "codemirror_mode": {
    "name": "ipython",
    "version": 3
   },
   "file_extension": ".py",
   "mimetype": "text/x-python",
   "name": "python",
   "nbconvert_exporter": "python",
   "pygments_lexer": "ipython3",
   "version": "3.6.5"
  }
 },
 "nbformat": 4,
 "nbformat_minor": 2
}
