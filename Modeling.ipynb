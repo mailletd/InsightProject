{
 "cells": [
  {
   "cell_type": "code",
   "execution_count": null,
   "metadata": {},
   "outputs": [],
   "source": [
    "import pandas as pd\n",
    "import matplotlib.pyplot as plt\n",
    "import seaborn as sns\n",
    "import numpy as np\n",
    "%config InlineBackend.figure_format = 'svg'\n",
    "import warnings; warnings.simplefilter('ignore')"
   ]
  },
  {
   "cell_type": "code",
   "execution_count": null,
   "metadata": {},
   "outputs": [],
   "source": []
  },
  {
   "cell_type": "code",
   "execution_count": null,
   "metadata": {},
   "outputs": [],
   "source": [
    "from sklearn.preprocessing import OneHotEncoder\n",
    "from sklearn.preprocessing import LabelEncoder\n",
    "from sklearn.model_selection import GridSearchCV, cross_val_score\n",
    "from sklearn.preprocessing import StandardScaler\n",
    "from sklearn.linear_model import LinearRegression, LassoCV, Lasso\n",
    "from sklearn.ensemble import RandomForestRegressor\n",
    "from sklearn.model_selection import train_test_split\n",
    "from sklearn.preprocessing import PolynomialFeatures\n",
    "from sklearn import linear_model, metrics\n",
    "import xgboost as xgb"
   ]
  },
  {
   "cell_type": "code",
   "execution_count": null,
   "metadata": {},
   "outputs": [],
   "source": [
    "data = pd.read_csv('ShortTermPred.csv') ## Historical data\n",
    "data2019 = pd.read_csv('2019_alldata.csv') ## Data to predict"
   ]
  },
  {
   "cell_type": "code",
   "execution_count": null,
   "metadata": {},
   "outputs": [],
   "source": []
  },
  {
   "cell_type": "code",
   "execution_count": null,
   "metadata": {},
   "outputs": [],
   "source": [
    "## Use same format as in data\n",
    "data2019['DayOfWeek'] = data2019['DayOfWeek'].str.slice(start = 0, stop = 3)"
   ]
  },
  {
   "cell_type": "code",
   "execution_count": null,
   "metadata": {},
   "outputs": [],
   "source": [
    "## Set index datetime\n",
    "\n",
    "data['0']=pd.to_datetime(data['0'],format='%Y-%m-%d')  ## convert to datetime\n",
    "data.set_index('0', inplace = True) ## set datetime as index\n",
    "data.head()\n",
    "\n",
    "data2019['Dates']=pd.to_datetime(data2019['Dates'],format='%Y-%m-%d')  ## convert to datetime\n",
    "data2019.set_index('Dates', inplace = True) ## set datetime as index\n"
   ]
  },
  {
   "cell_type": "code",
   "execution_count": null,
   "metadata": {},
   "outputs": [],
   "source": [
    "#data = data[data.index.year > 2000]## Use to test if using only recent data works better"
   ]
  },
  {
   "cell_type": "code",
   "execution_count": null,
   "metadata": {},
   "outputs": [],
   "source": [
    "data = data.drop(['precipitation','year','Soccergame','Stadium'],axis=1) ## variables that are not used"
   ]
  },
  {
   "cell_type": "code",
   "execution_count": null,
   "metadata": {},
   "outputs": [],
   "source": []
  },
  {
   "cell_type": "code",
   "execution_count": null,
   "metadata": {},
   "outputs": [],
   "source": [
    "## Dummy coding for multinomial variables\n",
    "\n",
    "data = pd.concat([data,pd.get_dummies(data['DayOfWeek'],prefix='Day')],axis=1)\n",
    "data.drop(['DayOfWeek'],axis=1, inplace=True)\n",
    "data = pd.concat([data,pd.get_dummies(data['VisitingTeam_Team'],prefix='Opponent')],axis=1)\n",
    "data.drop(['VisitingTeam_Team'],axis=1, inplace=True)\n",
    "\n",
    "data2019 = pd.concat([data2019,pd.get_dummies(data2019['DayOfWeek'],prefix='Day')],axis=1)\n",
    "data2019.drop(['DayOfWeek'],axis=1, inplace=True)\n",
    "data2019 = pd.concat([data2019,pd.get_dummies(data2019['VisitingTeam_Team'],prefix='Opponent')],axis=1)\n",
    "data2019.drop(['VisitingTeam_Team'],axis=1, inplace=True)"
   ]
  },
  {
   "cell_type": "code",
   "execution_count": null,
   "metadata": {},
   "outputs": [],
   "source": []
  },
  {
   "cell_type": "code",
   "execution_count": null,
   "metadata": {},
   "outputs": [],
   "source": [
    "#### Need to add columns of 0's for teams they haven't played in 2019\n",
    "\n",
    "missingcolumns = list(set(data.columns) - set(data2019.columns))\n",
    "missingcolumn_df = pd.DataFrame(columns=missingcolumns)\n",
    "for col in missingcolumn_df.columns:\n",
    "    missingcolumn_df[col] = np.zeros(data2019.shape[0])\n",
    "\n",
    "missingcolumn_df.set_index(data2019.index,inplace=True) ## Will merge on date in next line\n",
    "data2019 = pd.merge(data2019,missingcolumn_df, left_index=True,right_index=True)"
   ]
  },
  {
   "cell_type": "code",
   "execution_count": null,
   "metadata": {},
   "outputs": [],
   "source": []
  },
  {
   "cell_type": "code",
   "execution_count": null,
   "metadata": {},
   "outputs": [],
   "source": [
    "###################### Assign X and Y\n",
    "y = data['Attendance']\n",
    "X = data\n",
    "X = X.drop('Attendance',axis=1)\n",
    "\n",
    "y2019 = data2019['Attendance']\n",
    "X2019 = data2019\n",
    "X2019 = data2019.drop('Attendance',axis=1)"
   ]
  },
  {
   "cell_type": "code",
   "execution_count": null,
   "metadata": {},
   "outputs": [],
   "source": []
  },
  {
   "cell_type": "code",
   "execution_count": null,
   "metadata": {},
   "outputs": [],
   "source": [
    "##Numerical variables need to be scaled\n",
    "Numerical_cols = ['GameNumber','WinLossRatio','WinLossRatioLast10','month','GamesBack','NYA_WinLossRatio','BOS_WinLossRatio','BAL_WinLossRatio']\n",
    "Other_cols = data.columns.drop(Numerical_cols)\n",
    "Other_cols = Other_cols.drop('Attendance')"
   ]
  },
  {
   "cell_type": "code",
   "execution_count": null,
   "metadata": {},
   "outputs": [],
   "source": []
  },
  {
   "cell_type": "code",
   "execution_count": null,
   "metadata": {},
   "outputs": [],
   "source": [
    "#Create training and testing sets\n",
    "X_train, X_holdout, y_train, y_holdout = train_test_split(X, y, test_size=0.2, random_state=17)"
   ]
  },
  {
   "cell_type": "code",
   "execution_count": null,
   "metadata": {},
   "outputs": [],
   "source": []
  },
  {
   "cell_type": "code",
   "execution_count": null,
   "metadata": {},
   "outputs": [],
   "source": [
    "## Scale numerical predictors, historical data\n",
    "scaler = StandardScaler()\n",
    "X_train_scaled = scaler.fit_transform(X_train[Numerical_cols])\n",
    "X_holdout_scaled = scaler.transform(X_holdout[Numerical_cols])"
   ]
  },
  {
   "cell_type": "code",
   "execution_count": null,
   "metadata": {},
   "outputs": [],
   "source": [
    "## Scale numerical predictors, 2019 data\n",
    "data2019_scaled = scaler.transform(X2019[Numerical_cols])"
   ]
  },
  {
   "cell_type": "code",
   "execution_count": null,
   "metadata": {},
   "outputs": [],
   "source": [
    "##Merge numerical and categorical variables\n",
    "X_train_final = np.append(X_train_scaled,X_train[Other_cols],axis=1)\n",
    "X_holdout_final = np.append(X_holdout_scaled, X_holdout[Other_cols],axis=1)\n",
    "\n",
    "X2019_final = np.append(data2019_scaled, data2019[Other_cols],axis=1)"
   ]
  },
  {
   "cell_type": "code",
   "execution_count": null,
   "metadata": {},
   "outputs": [],
   "source": []
  },
  {
   "cell_type": "code",
   "execution_count": null,
   "metadata": {},
   "outputs": [],
   "source": [
    "###Linear regression model\n",
    "LinRegression = LinearRegression()\n",
    "LinRegression.fit(X_train_final,y_train)\n",
    "regpreds=LinRegression.predict(X_holdout_final)"
   ]
  },
  {
   "cell_type": "code",
   "execution_count": null,
   "metadata": {},
   "outputs": [],
   "source": [
    "###Linear regression model correlation coefficient\n",
    "from scipy.stats.stats import pearsonr  \n",
    "regtrainpreds=LinRegression.predict(X_train_final)\n",
    "print (pearsonr(regtrainpreds,y_train))"
   ]
  },
  {
   "cell_type": "code",
   "execution_count": null,
   "metadata": {},
   "outputs": [],
   "source": [
    "##Linear regression scatterplot\n",
    "dfpreds_df=pd.DataFrame(columns=['yholdout','regpreds'])\n",
    "dfpreds_df['yholdout']=y_holdout\n",
    "dfpreds_df['regpreds']=regpreds\n",
    "\n",
    "plt.scatter(y_holdout, regpreds);"
   ]
  },
  {
   "cell_type": "code",
   "execution_count": null,
   "metadata": {},
   "outputs": [],
   "source": []
  },
  {
   "cell_type": "code",
   "execution_count": null,
   "metadata": {},
   "outputs": [],
   "source": [
    "##Linear regression coefficient importance\n",
    "reg_importance = pd.DataFrame(data=LinRegression.coef_,columns=['coefficients'],index=data.columns.drop('Attendance')) # you code here\n",
    "reg_importance.sort_values('coefficients',ascending=False)"
   ]
  },
  {
   "cell_type": "code",
   "execution_count": null,
   "metadata": {},
   "outputs": [],
   "source": [
    "########## Lasso Regression\n",
    "\n",
    "alphas = np.logspace(-6, 2, 200)\n",
    "lasso_cv = LassoCV(alphas=alphas, cv=5,verbose=True) # you code here\n",
    "lasso_cv.fit(X_train_final,y_train) # you code here"
   ]
  },
  {
   "cell_type": "code",
   "execution_count": null,
   "metadata": {},
   "outputs": [],
   "source": [
    "##Lasso correlation coefficient\n",
    "lassotrainpreds=lasso_cv.predict(X_train_final)\n",
    "print (pearsonr(lassotrainpreds,y_train))"
   ]
  },
  {
   "cell_type": "code",
   "execution_count": null,
   "metadata": {},
   "outputs": [],
   "source": [
    "lassopreds=lasso_cv.predict(X_holdout_final)\n",
    "dfpreds_df['LassoPreds'] = lassopreds\n",
    "dfpreds_df.corr()"
   ]
  },
  {
   "cell_type": "code",
   "execution_count": null,
   "metadata": {},
   "outputs": [],
   "source": [
    "##Lasso scatterplot\n",
    "plt.scatter(y_holdout, lassopreds);\n",
    "plt.title(\"Predicted versus actual attendance\");"
   ]
  },
  {
   "cell_type": "code",
   "execution_count": null,
   "metadata": {},
   "outputs": [],
   "source": [
    "##Lasso feature importance\n",
    "lasso_importance = pd.DataFrame(data=lasso_cv.coef_,columns=['coefficients'],index=data.columns.drop('Attendance')) # you code here\n",
    "lasso_importance.sort_values('coefficients',ascending=False)"
   ]
  },
  {
   "cell_type": "code",
   "execution_count": null,
   "metadata": {},
   "outputs": [],
   "source": []
  },
  {
   "cell_type": "code",
   "execution_count": null,
   "metadata": {},
   "outputs": [],
   "source": []
  },
  {
   "cell_type": "code",
   "execution_count": null,
   "metadata": {},
   "outputs": [],
   "source": []
  },
  {
   "cell_type": "code",
   "execution_count": null,
   "metadata": {},
   "outputs": [],
   "source": []
  },
  {
   "cell_type": "code",
   "execution_count": null,
   "metadata": {},
   "outputs": [],
   "source": [
    "##### Random forest\n",
    "\n",
    "forest = RandomForestRegressor() # you code here\n",
    "forest.fit(X_train_final,y_train)"
   ]
  },
  {
   "cell_type": "code",
   "execution_count": null,
   "metadata": {},
   "outputs": [],
   "source": [
    "foresttrainpreds= forest.predict(X_train_final)\n",
    "print (pearsonr(foresttrainpreds,y_train))"
   ]
  },
  {
   "cell_type": "code",
   "execution_count": null,
   "metadata": {},
   "outputs": [],
   "source": [
    "## Random forest grid search\n",
    "forest_params = {'max_depth': [5,10,15,20,25,30], \n",
    "                  'min_samples_leaf': [5,10,15],\n",
    "                  'max_features': [10,15,20,25,30,35,40,45]}\n",
    "\n",
    "locally_best_forest = GridSearchCV(forest,forest_params, cv=10)\n",
    "locally_best_forest.fit(X_train_final,y_train)"
   ]
  },
  {
   "cell_type": "code",
   "execution_count": null,
   "metadata": {},
   "outputs": [],
   "source": [
    "### Best hyperparameters for random forest\n",
    "locally_best_forest.best_params_, locally_best_forest.best_score_"
   ]
  },
  {
   "cell_type": "code",
   "execution_count": null,
   "metadata": {},
   "outputs": [],
   "source": []
  },
  {
   "cell_type": "code",
   "execution_count": null,
   "metadata": {},
   "outputs": [],
   "source": [
    "##Random forest scatterplot and performance metrics\n",
    "forestpreds = locally_best_forest.predict(X_holdout_final)\n",
    "forestpreds_df=pd.DataFrame(columns=['yholdout','forestpreds'])\n",
    "forestpreds_df['yholdout']=y_holdout\n",
    "forestpreds_df['forestpreds']=forestpreds\n",
    "\n",
    "diffscores = [abs(a - b) for a, b in zip(forestpreds, y_holdout)]\n",
    "diffscores = round(sum(diffscores) / float(len(diffscores)),2)\n",
    "percerror = [abs(a - b)/b for a, b in zip(forestpreds, y_holdout)]\n",
    "percerror = round(sum(percerror) / float(len(percerror)),2)\n",
    "\n",
    "rr = metrics.r2_score(y_holdout, forestpreds)\n",
    "rr = round(rr,2)\n",
    "\n",
    "plt.scatter(y_holdout, forestpreds);\n",
    "plt.ylabel = 'Prediction'\n",
    "plt.xlabel = 'Actual'\n",
    "plt.title(\"R squared = \" + str(rr) +\n",
    "          '\\n Average error in attendance prediction = ' + str(diffscores)+\n",
    "         '\\n Percentage error = ' + str(percerror))\n",
    "plt.show()"
   ]
  },
  {
   "cell_type": "code",
   "execution_count": null,
   "metadata": {},
   "outputs": [],
   "source": []
  },
  {
   "cell_type": "code",
   "execution_count": null,
   "metadata": {},
   "outputs": [],
   "source": [
    "##Compare correlation coefficients of different models\n",
    "dfpreds_df['ForestPreds'] = forestpreds\n",
    "dfpreds_df.corr()"
   ]
  },
  {
   "cell_type": "code",
   "execution_count": null,
   "metadata": {},
   "outputs": [],
   "source": [
    "##Estimate importance of random forest coefficients\n",
    "rf_importance = pd.DataFrame(data=locally_best_forest.best_estimator_.feature_importances_,columns=['coefficients'],index=data.columns.drop('Attendance')) # you code here\n",
    "rf_importance.sort_values('coefficients',ascending=False)"
   ]
  },
  {
   "cell_type": "code",
   "execution_count": null,
   "metadata": {},
   "outputs": [],
   "source": []
  },
  {
   "cell_type": "code",
   "execution_count": null,
   "metadata": {},
   "outputs": [],
   "source": [
    "forestpreds2019 = locally_best_forest.predict(X2019_final)\n",
    "lassocvpreds2019 = lasso_cv.predict(X2019_final)"
   ]
  },
  {
   "cell_type": "code",
   "execution_count": null,
   "metadata": {},
   "outputs": [],
   "source": [
    "### Create dataframe for web app\n",
    "\n",
    "###Get day of week, month\n",
    "forestpreds2019_df=pd.DataFrame(columns=['y2019','forestpreds2019'])\n",
    "forestpreds2019_df['y2019']=y2019\n",
    "forestpreds2019_df['forestpreds2019']=forestpreds2019\n",
    "forestpreds2019_df['month'] = forestpreds2019_df.index.month\n",
    "import calendar\n",
    "dayofweek=[]\n",
    "for x in forestpreds2019_df.index:\n",
    "    dayofweek.append(calendar.day_name[x.weekday()])\n",
    "\n",
    "monthdict = {3: 'March',4: 'April',5: 'May',6: 'June',7: 'July',8: 'August',9: 'September',10: 'October'}\n",
    "forestpreds2019_df['monthletter'] = forestpreds2019_df['month']\n",
    "forestpreds2019_df['monthletter'] = forestpreds2019_df['monthletter'].map(monthdict)"
   ]
  },
  {
   "cell_type": "code",
   "execution_count": null,
   "metadata": {},
   "outputs": [],
   "source": []
  },
  {
   "cell_type": "code",
   "execution_count": null,
   "metadata": {},
   "outputs": [],
   "source": [
    "forestpreds2019_df['lassopreds'] = lassocvpreds2019\n",
    "forestpreds2019_df['day'] = dayofweek\n",
    "forestpreds2019_df['opponent'] = [\n",
    "\"Tigers\",\n",
    "\"Tigers\",\n",
    "\"Tigers\",\n",
    "\"Tigers\",\n",
    "\"Orioles\",\n",
    "\"Orioles\",\n",
    "\"Orioles\",\n",
    "\"Rays\",\n",
    "\"Rays\",\n",
    "\"Rays\",\n",
    "\"Giants\",\n",
    "\"Giants\",\n",
    "\"Athletics\",\n",
    "\"Athletics\",\n",
    "\"Athletics\",\n",
    "\"Twins\",\n",
    "\"Twins\",\n",
    "\"Twins\",\n",
    "\"White Sox\",\n",
    "\"White Sox\",\n",
    "\"White Sox\",\n",
    "\"Red Sox\",\n",
    "\"Red Sox\",\n",
    "\"Red Sox\",\n",
    "\"Red Sox\",\n",
    "\"Padres\",\n",
    "\"Padres\",\n",
    "\"Padres\",\n",
    "\"Yankees\",\n",
    "\"Yankees\",\n",
    "\"Yankees\",\n",
    "\"D-backs\",\n",
    "\"D-backs\",\n",
    "\"D-backs\",\n",
    "\"Angels\",\n",
    "\"Angels\",\n",
    "\"Angels\",\n",
    "\"Angels\",\n",
    "\"Royals\",\n",
    "\"Royals\",\n",
    "\"Royals\",\n",
    "\"Royals\",\n",
    "\"Red Sox\",\n",
    "\"Red Sox\",\n",
    "\"Red Sox\",\n",
    "\"Orioles\",\n",
    "\"Orioles\",\n",
    "\"Orioles\",\n",
    "\"Indians\",\n",
    "\"Indians\",\n",
    "\"Indians\",\n",
    "\"Rays\",\n",
    "\"Rays\",\n",
    "\"Rays\",\n",
    "\"Yankees\",\n",
    "\"Yankees\",\n",
    "\"Yankees\",\n",
    "\"Yankees\",\n",
    "\"Rangers\",\n",
    "\"Rangers\",\n",
    "\"Rangers\",\n",
    "\"Mariners\",\n",
    "\"Mariners\",\n",
    "\"Mariners\",\n",
    "\"Braves\",\n",
    "\"Braves\",\n",
    "\"Astros\",\n",
    "\"Astros\",\n",
    "\"Astros\",\n",
    "\"Red Sox\",\n",
    "\"Red Sox\",\n",
    "\"Red Sox\",\n",
    "\"Yankees\",\n",
    "\"Yankees\",\n",
    "\"Yankees\",\n",
    "\"Orioles\",\n",
    "\"Orioles\",\n",
    "\"Orioles\",\n",
    "\"Rays\",\n",
    "\"Rays\",\n",
    "\"Rays\",\n",
    "]\n",
    "\n"
   ]
  },
  {
   "cell_type": "code",
   "execution_count": null,
   "metadata": {},
   "outputs": [],
   "source": [
    "forestpreds2019_df.to_csv('2019finalpredictions.csv')"
   ]
  }
 ],
 "metadata": {
  "kernelspec": {
   "display_name": "Python 3",
   "language": "python",
   "name": "python3"
  },
  "language_info": {
   "codemirror_mode": {
    "name": "ipython",
    "version": 3
   },
   "file_extension": ".py",
   "mimetype": "text/x-python",
   "name": "python",
   "nbconvert_exporter": "python",
   "pygments_lexer": "ipython3",
   "version": "3.6.5"
  }
 },
 "nbformat": 4,
 "nbformat_minor": 2
}
