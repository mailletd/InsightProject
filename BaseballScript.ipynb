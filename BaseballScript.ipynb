{
 "cells": [
  {
   "cell_type": "code",
   "execution_count": null,
   "metadata": {},
   "outputs": [],
   "source": [
    "import os\n",
    "import pandas as pd\n",
    "import numpy as np\n",
    "import warnings; warnings.simplefilter('ignore')"
   ]
  },
  {
   "cell_type": "code",
   "execution_count": null,
   "metadata": {},
   "outputs": [],
   "source": []
  },
  {
   "cell_type": "code",
   "execution_count": null,
   "metadata": {},
   "outputs": [],
   "source": []
  },
  {
   "cell_type": "code",
   "execution_count": null,
   "metadata": {},
   "outputs": [],
   "source": [
    "## load data per year\n",
    "Year_1978 = pd.read_csv('./gl1990-2018/GL1978.TXT',sep=',',header=None)\n",
    "Year_1979 = pd.read_csv('./gl1990-2018/GL1979.TXT',sep=',',header=None)\n",
    "Year_1980 = pd.read_csv('./gl1990-2018/GL1980.TXT',sep=',',header=None)\n",
    "Year_1981 = pd.read_csv('./gl1990-2018/GL1981.TXT',sep=',',header=None)\n",
    "Year_1982 = pd.read_csv('./gl1990-2018/GL1982.TXT',sep=',',header=None)\n",
    "Year_1983 = pd.read_csv('./gl1990-2018/GL1983.TXT',sep=',',header=None)\n",
    "Year_1984 = pd.read_csv('./gl1990-2018/GL1984.TXT',sep=',',header=None)\n",
    "Year_1985 = pd.read_csv('./gl1990-2018/GL1985.TXT',sep=',',header=None)\n",
    "Year_1986 = pd.read_csv('./gl1990-2018/GL1986.TXT',sep=',',header=None)\n",
    "Year_1987 = pd.read_csv('./gl1990-2018/GL1987.TXT',sep=',',header=None)\n",
    "Year_1988 = pd.read_csv('./gl1990-2018/GL1988.TXT',sep=',',header=None)\n",
    "Year_1989 = pd.read_csv('./gl1990-2018/GL1989.TXT',sep=',',header=None)\n",
    "Year_1990 = pd.read_csv('./gl1990-2018/GL1990.TXT',sep=',',header=None)\n",
    "Year_1991 = pd.read_csv('./gl1990-2018/GL1991.TXT',sep=',',header=None)\n",
    "Year_1992 = pd.read_csv('./gl1990-2018/GL1992.TXT',sep=',',header=None)\n",
    "Year_1993 = pd.read_csv('./gl1990-2018/GL1993.TXT',sep=',',header=None)\n",
    "Year_1994 = pd.read_csv('./gl1990-2018/GL1994.TXT',sep=',',header=None)\n",
    "Year_1995 = pd.read_csv('./gl1990-2018/GL1995.TXT',sep=',',header=None)\n",
    "Year_1996 = pd.read_csv('./gl1990-2018/GL1996.TXT',sep=',',header=None)\n",
    "Year_1997 = pd.read_csv('./gl1990-2018/GL1997.TXT',sep=',',header=None)\n",
    "Year_1998 = pd.read_csv('./gl1990-2018/GL1998.TXT',sep=',',header=None)\n",
    "Year_1999 = pd.read_csv('./gl1990-2018/GL1999.TXT',sep=',',header=None)\n",
    "Year_2000 = pd.read_csv('./gl1990-2018/GL2000.TXT',sep=',',header=None)\n",
    "Year_2001 = pd.read_csv('./gl1990-2018/GL2001.TXT',sep=',',header=None)\n",
    "Year_2002 = pd.read_csv('./gl1990-2018/GL2002.TXT',sep=',',header=None)\n",
    "Year_2003 = pd.read_csv('./gl1990-2018/GL2003.TXT',sep=',',header=None)\n",
    "Year_2004 = pd.read_csv('./gl1990-2018/GL2004.TXT',sep=',',header=None)\n",
    "Year_2005 = pd.read_csv('./gl1990-2018/GL2005.TXT',sep=',',header=None)\n",
    "Year_2006 = pd.read_csv('./gl1990-2018/GL2006.TXT',sep=',',header=None)\n",
    "Year_2007 = pd.read_csv('./gl1990-2018/GL2007.TXT',sep=',',header=None)\n",
    "Year_2008 = pd.read_csv('./gl1990-2018/GL2008.TXT',sep=',',header=None)\n",
    "Year_2009 = pd.read_csv('./gl1990-2018/GL2009.TXT',sep=',',header=None)\n",
    "Year_2010 = pd.read_csv('./gl1990-2018/GL2010.TXT',sep=',',header=None)\n",
    "Year_2011 = pd.read_csv('./gl1990-2018/GL2011.TXT',sep=',',header=None)\n",
    "Year_2012 = pd.read_csv('./gl1990-2018/GL2012.TXT',sep=',',header=None)\n",
    "Year_2013 = pd.read_csv('./gl1990-2018/GL2013.TXT',sep=',',header=None)\n",
    "Year_2014 = pd.read_csv('./gl1990-2018/GL2014.TXT',sep=',',header=None)\n",
    "Year_2015 = pd.read_csv('./gl1990-2018/GL2015.TXT',sep=',',header=None)\n",
    "Year_2016 = pd.read_csv('./gl1990-2018/GL2016.TXT',sep=',',header=None)\n",
    "Year_2017 = pd.read_csv('./gl1990-2018/GL2017.TXT',sep=',',header=None)\n",
    "Year_2018 = pd.read_csv('./gl1990-2018/GL2018.TXT',sep=',',header=None)"
   ]
  },
  {
   "cell_type": "code",
   "execution_count": null,
   "metadata": {},
   "outputs": [],
   "source": [
    "alldata = pd.concat([Year_1978, Year_1979, Year_1980, Year_1981, Year_1982, Year_1983, Year_1984, Year_1985, Year_1986, Year_1987, Year_1988, Year_1989, Year_1990, Year_1991, Year_1992, Year_1993, Year_1994, Year_1995, Year_1996, Year_1997, Year_1998, Year_1999, Year_2000, Year_2001, Year_2002, Year_2003, Year_2004, Year_2005, Year_2006, Year_2007, Year_2008, Year_2009, Year_2010, Year_2011, Year_2012, Year_2013, Year_2014, Year_2015, Year_2016, Year_2017, Year_2018])"
   ]
  },
  {
   "cell_type": "code",
   "execution_count": null,
   "metadata": {},
   "outputs": [],
   "source": [
    "alldata.shape"
   ]
  },
  {
   "cell_type": "code",
   "execution_count": null,
   "metadata": {},
   "outputs": [],
   "source": [
    "##Only keep Toronto home games\n",
    "tordata = alldata[alldata[6] == 'TOR']\n",
    "tordata.shape"
   ]
  },
  {
   "cell_type": "code",
   "execution_count": null,
   "metadata": {},
   "outputs": [],
   "source": [
    "tordata = tordata.reset_index(drop = True) ## Reset index. Old one is based on all the other teams\n",
    "from dateutil.parser import parse\n",
    "tordata[0]=pd.to_datetime(tordata[0],format='%Y%m%d')  ## convert to datetime\n",
    "tordata.set_index(0, inplace = True) ## set datetime as index"
   ]
  },
  {
   "cell_type": "code",
   "execution_count": null,
   "metadata": {},
   "outputs": [],
   "source": [
    "###Extract relevant columns \n",
    "\n",
    "data = tordata[[1, 2, 3, 4, 12, 13, 17, 23,51, 9, 10]]\n",
    "data.columns = ['GameType','DayOfWeek','VisitingTeam_Team','VisitingTeam_League','DayNight','Completion','Attendance','VisitingTeam_Hits','HomeTeam_Hits','VisitingScore','HomeScore']\n"
   ]
  },
  {
   "cell_type": "code",
   "execution_count": null,
   "metadata": {},
   "outputs": [],
   "source": [
    "## Create Winner column based PointDifferential\n",
    "data['PointDifferential'] = data['HomeScore'] - data['VisitingScore']\n",
    "data.loc[data['PointDifferential'] > 0, 'Winner'] = 'W'\n",
    "data.loc[data['PointDifferential'] < 0, 'Winner'] = 'L'\n",
    "data.head()\n",
    "    "
   ]
  },
  {
   "cell_type": "code",
   "execution_count": null,
   "metadata": {},
   "outputs": [],
   "source": [
    "data = data.loc[data['GameType'] != 1] ## Exclude one game of double-header that has no attendance"
   ]
  },
  {
   "cell_type": "code",
   "execution_count": null,
   "metadata": {},
   "outputs": [],
   "source": [
    "## Assign a game number for each game of each season\n",
    "gamesperyear = data.groupby(data.index.year)['GameType'].count().values ## Determine amount of games/year\n",
    "data['GameNumber'] = \"\"\n",
    "for i, year in enumerate(data.index.year.unique().values):\n",
    "    data.loc[data.index.year == year, 'GameNumber'] = list(range(1,gamesperyear[i]+1))"
   ]
  },
  {
   "cell_type": "code",
   "execution_count": null,
   "metadata": {},
   "outputs": [],
   "source": [
    "## WinnerNumber column is useful for calculating WinLossRatio (next cell)\n",
    "data['WinnerNumber'] = \"\"\n",
    "data.loc[data['Winner'] == 'W', 'WinnerNumber'] = 1\n",
    "data.loc[data['Winner'] == 'L', 'WinnerNumber'] = -1"
   ]
  },
  {
   "cell_type": "code",
   "execution_count": null,
   "metadata": {},
   "outputs": [],
   "source": [
    "## Create Winlossratio column which calculates win/loss for all prior games in a season\n",
    "## Also creates WinLossRatioLast10 which is win/loss ratio for last 10 games\n",
    "\n",
    "data['WinLossRatio'] = ''\n",
    "data['WinLossRatioLast10'] = ''\n",
    "\n",
    "for j, year in enumerate(data.index.year.unique().values):\n",
    "    i = gamesperyear[j]\n",
    "    ## Win/loss for all season\n",
    "    data.loc[(data.index.year == year) & (data['GameNumber'] == 1),'WinLossRatio'] = 0\n",
    "    data.loc[(data.index.year == year) & (data['GameNumber'].isin(list(range(2,i+1)))),'WinLossRatio'] = data.loc[data.index.year == year,'WinnerNumber'].cumsum()[:-1].values\n",
    "    ## Win/loss for last 10 games\n",
    "    data.loc[(data.index.year == year) & (data['GameNumber'] == 1),'WinLossRatioLast10'] = 0\n",
    "    data.loc[(data.index.year == year) & (data['GameNumber'].isin(list(range(2,i+1)))),'WinLossRatioLast10'] = data.loc[data.index.year == year,'WinnerNumber'].rolling(min_periods=1, window=10).sum()[:-1].values\n"
   ]
  },
  {
   "cell_type": "code",
   "execution_count": null,
   "metadata": {},
   "outputs": [],
   "source": [
    "## Import weather data, set it to index\n",
    "AllWheather_df = pd.read_csv('./Data/weatherstats_toronto_daily.csv',usecols = ['date','max_temperature','max_relative_humidity','max_wind_speed','avg_visibility','precipitation'])\n",
    "AllWheather_df['date']=pd.to_datetime(AllWheather_df['date'], format='%y-%m-%d')\n",
    "AllWheather_df.set_index('date', inplace = True)\n",
    "AllWheather_df.head()"
   ]
  },
  {
   "cell_type": "code",
   "execution_count": null,
   "metadata": {},
   "outputs": [],
   "source": [
    "data = data.join(AllWheather_df,how='left')"
   ]
  },
  {
   "cell_type": "code",
   "execution_count": null,
   "metadata": {},
   "outputs": [],
   "source": [
    "data['year']=data.index.year\n",
    "data['month']=data.index.month\n",
    "data.head()"
   ]
  },
  {
   "cell_type": "code",
   "execution_count": null,
   "metadata": {},
   "outputs": [],
   "source": [
    "## Create Homeopener variable\n",
    "data.loc[data['GameNumber'] == 1, 'HomeOpener'] = 1\n",
    "data.loc[data['GameNumber'] != 1, 'HomeOpener'] = 0"
   ]
  },
  {
   "cell_type": "code",
   "execution_count": null,
   "metadata": {},
   "outputs": [],
   "source": []
  },
  {
   "cell_type": "code",
   "execution_count": null,
   "metadata": {},
   "outputs": [],
   "source": [
    "tennis_df = pd.read_csv('./data/tournaments_1877-2017_unindexed.csv', encoding = \"ISO-8859-1\")"
   ]
  },
  {
   "cell_type": "code",
   "execution_count": null,
   "metadata": {},
   "outputs": [],
   "source": [
    "tennis_df[tennis_df['tourney_location'] == 'Toronto'].head()"
   ]
  },
  {
   "cell_type": "code",
   "execution_count": null,
   "metadata": {},
   "outputs": [],
   "source": [
    "soccer_df=pd.read_csv('./data/soccer.csv')"
   ]
  },
  {
   "cell_type": "code",
   "execution_count": null,
   "metadata": {},
   "outputs": [],
   "source": [
    "soccer_df.head()"
   ]
  },
  {
   "cell_type": "code",
   "execution_count": null,
   "metadata": {},
   "outputs": [],
   "source": [
    "soccer_df['Date'] = pd.to_datetime(soccer_df['Date'], format='%Y-%m-%d')\n",
    "soccer_df.set_index('Date', inplace = True)"
   ]
  },
  {
   "cell_type": "code",
   "execution_count": null,
   "metadata": {},
   "outputs": [],
   "source": [
    "soccer_df = soccer_df[soccer_df['Home'] == 'Toronto']\n"
   ]
  },
  {
   "cell_type": "code",
   "execution_count": null,
   "metadata": {},
   "outputs": [],
   "source": [
    "soccer_df['Soccergame'] = 1\n",
    "soccer_df = soccer_df.drop(['Game #','Home','HomeScore','Visitor','Attendance','VisitorScore'],axis=1)\n",
    "\n"
   ]
  },
  {
   "cell_type": "code",
   "execution_count": null,
   "metadata": {},
   "outputs": [],
   "source": [
    "data = data.join(soccer_df, how='left')"
   ]
  },
  {
   "cell_type": "code",
   "execution_count": null,
   "metadata": {},
   "outputs": [],
   "source": [
    "data['Soccergame'] = data['Soccergame'].fillna(0)"
   ]
  },
  {
   "cell_type": "code",
   "execution_count": null,
   "metadata": {},
   "outputs": [],
   "source": []
  },
  {
   "cell_type": "code",
   "execution_count": null,
   "metadata": {},
   "outputs": [],
   "source": []
  },
  {
   "cell_type": "code",
   "execution_count": null,
   "metadata": {},
   "outputs": [],
   "source": [
    "## Try precipitation as a binary variable, 0 = no rain, 1 = any rain\n",
    "data.loc[data['precipitation']== 0,'PrecipitationBinary'] = 0 \n",
    "data.loc[data['precipitation']!= 0,'PrecipitationBinary'] = 1 \n",
    "data.groupby('PrecipitationBinary')['Attendance'].mean().plot.bar()"
   ]
  },
  {
   "cell_type": "code",
   "execution_count": null,
   "metadata": {},
   "outputs": [],
   "source": [
    "## Save predictor variables to csv\n",
    "ShortTermPred_df = data[['DayOfWeek','VisitingTeam_Team','DayNight','Attendance','GameNumber','WinLossRatio','WinLossRatioLast10','max_temperature','precipitation','year','month','HomeOpener','Soccergame']]\n",
    "ShortTermPred_df.to_csv('ShortTermPred.csv')"
   ]
  },
  {
   "cell_type": "code",
   "execution_count": null,
   "metadata": {},
   "outputs": [],
   "source": []
  },
  {
   "cell_type": "code",
   "execution_count": null,
   "metadata": {},
   "outputs": [],
   "source": []
  }
 ],
 "metadata": {
  "kernelspec": {
   "display_name": "Python 3",
   "language": "python",
   "name": "python3"
  },
  "language_info": {
   "codemirror_mode": {
    "name": "ipython",
    "version": 3
   },
   "file_extension": ".py",
   "mimetype": "text/x-python",
   "name": "python",
   "nbconvert_exporter": "python",
   "pygments_lexer": "ipython3",
   "version": "3.6.5"
  }
 },
 "nbformat": 4,
 "nbformat_minor": 2
}
