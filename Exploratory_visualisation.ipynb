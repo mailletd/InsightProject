{
 "cells": [
  {
   "cell_type": "code",
   "execution_count": null,
   "metadata": {},
   "outputs": [],
   "source": []
  },
  {
   "cell_type": "code",
   "execution_count": null,
   "metadata": {},
   "outputs": [],
   "source": [
    "import pandas as pd\n",
    "import matplotlib.pyplot as plt\n",
    "import seaborn as sns\n",
    "import numpy as np\n",
    "%config InlineBackend.figure_format = 'svg'"
   ]
  },
  {
   "cell_type": "code",
   "execution_count": null,
   "metadata": {},
   "outputs": [],
   "source": [
    "data = pd.read_csv('ShortTermPred.csv')"
   ]
  },
  {
   "cell_type": "code",
   "execution_count": null,
   "metadata": {},
   "outputs": [],
   "source": [
    "##Set index to datetime\n",
    "data['0']= pd.to_datetime(data['0'], format='%Y-%m-%d')\n",
    "data.set_index(data['0'],inplace=True)\n",
    "data.drop('0',axis=1,inplace=True)\n",
    "data.head()"
   ]
  },
  {
   "cell_type": "code",
   "execution_count": null,
   "metadata": {},
   "outputs": [],
   "source": []
  },
  {
   "cell_type": "code",
   "execution_count": null,
   "metadata": {},
   "outputs": [],
   "source": [
    "data.resample('Y')['Attendance'].mean().plot.bar(figsize = (12,5),title='Attendance by year')\n"
   ]
  },
  {
   "cell_type": "code",
   "execution_count": null,
   "metadata": {},
   "outputs": [],
   "source": [
    "sns.distplot(data['Attendance']);"
   ]
  },
  {
   "cell_type": "code",
   "execution_count": null,
   "metadata": {},
   "outputs": [],
   "source": [
    "## For categorical variables, count \n",
    "## For numberical variables, histogram\n",
    "\n",
    "fig = plt.figure(figsize=(12, 15))\n",
    "cols = 3\n",
    "rows = np.ceil(float(data.shape[1]) / cols)\n",
    "for i, column in enumerate(data.columns):\n",
    "    ax = fig.add_subplot(rows, cols, i + 1)\n",
    "    ax.set_title(column)\n",
    "    if data.dtypes[column] == np.object:\n",
    "        data[column].value_counts().plot(kind=\"bar\", axes=ax)\n",
    "    else:\n",
    "        data[column].hist(axes=ax)\n",
    "        plt.xticks(rotation=\"vertical\")\n",
    "plt.subplots_adjust(hspace=0.7, wspace=0.2)"
   ]
  },
  {
   "cell_type": "code",
   "execution_count": null,
   "metadata": {},
   "outputs": [],
   "source": [
    "data['Attendance'].plot(figsize = (12,5),title='Attendance over time')"
   ]
  },
  {
   "cell_type": "code",
   "execution_count": null,
   "metadata": {},
   "outputs": [],
   "source": [
    "## Attendance over time for each year\n",
    "fig = plt.figure(figsize=(12, 60))\n",
    "cols = 2\n",
    "rows = (len(data.index.year.unique()) / cols)+1\n",
    "for i, year in enumerate(data.index.year.unique()):\n",
    "    ax = fig.add_subplot(rows, cols, i + 1)\n",
    "    ax.set_title(year)\n",
    "    data[data.index.year == year]['Attendance'].plot()"
   ]
  },
  {
   "cell_type": "code",
   "execution_count": null,
   "metadata": {},
   "outputs": [],
   "source": [
    "## Correlation matrix with all numerical variables\n",
    "numerical = ['Attendance','GameNumber','WinLossRatio','WinLossRatioLast10','max_temperature','precipitation','year','month']\n",
    "corr_matrix = data[numerical].corr()\n",
    "fig=plt.figure(figsize=(10, 10))\n",
    "sns.heatmap(corr_matrix, annot = True);"
   ]
  },
  {
   "cell_type": "code",
   "execution_count": null,
   "metadata": {},
   "outputs": [],
   "source": [
    "##Holidays graphs\n",
    "fig = plt.figure(figsize=(5,5))\n",
    "ax = fig.add_subplot(1, 1, 1)\n",
    "sns.boxplot(x='Holidays',y='Attendance',data=data).set_title('Holidays')"
   ]
  },
  {
   "cell_type": "code",
   "execution_count": null,
   "metadata": {},
   "outputs": [],
   "source": [
    "## How attendance is related to the categorical variables\n",
    "fig = plt.figure(figsize=(12,15))\n",
    "ax = fig.add_subplot(2, 2, 1)\n",
    "sns.boxplot(x='DayOfWeek',y='Attendance',data=data).set_title('Day of the week')\n",
    "ax = fig.add_subplot(2, 2, 2)\n",
    "sns.boxplot(x='DayNight',y='Attendance',data=data).set_title('Day or night game')\n",
    "ax = fig.add_subplot(2, 2, 3)\n",
    "sns.boxplot(x='HomeOpener',y='Attendance',data=data).set_title('Home Opener')\n",
    "ax = fig.add_subplot(2, 2, 4)\n",
    "sns.boxplot(x='Soccergame',y='Attendance',data=data).set_title('Soccer game')"
   ]
  },
  {
   "cell_type": "code",
   "execution_count": null,
   "metadata": {},
   "outputs": [],
   "source": [
    "## Attendance by opponent\n",
    "fig = plt.figure(figsize=(12,5))\n",
    "sns.boxplot(x='VisitingTeam_Team',y='Attendance',data=data,).set_title('Opponent')"
   ]
  },
  {
   "cell_type": "code",
   "execution_count": null,
   "metadata": {},
   "outputs": [],
   "source": [
    "## Attendance by game number and WinLossRatio\n",
    "corr_matrix = data[['Attendance','GameNumber','GamesBack','WinLossRatio','WinLossRatioLast10','yankees_WinLossRatio','orioles_WinLossRatio','redsox_WinLossRatio']].corr()\n",
    "fig=plt.figure(figsize=(8, 8))\n",
    "sns.heatmap(corr_matrix, annot = True);"
   ]
  },
  {
   "cell_type": "code",
   "execution_count": null,
   "metadata": {},
   "outputs": [],
   "source": []
  },
  {
   "cell_type": "code",
   "execution_count": null,
   "metadata": {},
   "outputs": [],
   "source": []
  }
 ],
 "metadata": {
  "kernelspec": {
   "display_name": "Python 3",
   "language": "python",
   "name": "python3"
  },
  "language_info": {
   "codemirror_mode": {
    "name": "ipython",
    "version": 3
   },
   "file_extension": ".py",
   "mimetype": "text/x-python",
   "name": "python",
   "nbconvert_exporter": "python",
   "pygments_lexer": "ipython3",
   "version": "3.6.5"
  }
 },
 "nbformat": 4,
 "nbformat_minor": 2
}
