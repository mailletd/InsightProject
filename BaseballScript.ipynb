{
 "cells": [
  {
   "cell_type": "code",
   "execution_count": 117,
   "metadata": {},
   "outputs": [],
   "source": [
    "import os\n",
    "import pandas as pd\n",
    "import numpy as np\n",
    "import matplotlib.pyplot as plt\n",
    "import seaborn as sns\n",
    "import warnings; warnings.simplefilter('ignore')\n",
    "%config InlineBackend.figure_format = 'svg'"
   ]
  },
  {
   "cell_type": "code",
   "execution_count": null,
   "metadata": {},
   "outputs": [],
   "source": []
  },
  {
   "cell_type": "code",
   "execution_count": 118,
   "metadata": {},
   "outputs": [],
   "source": [
    "## Load data\n",
    "\n",
    "def load_data(directory, year):\n",
    "    file_path = directory + \"gl1990-2018/GL\" + str(year) + \".TXT\"\n",
    "    currentdf = pd.read_csv(file_path,sep=',',header=None)\n",
    "    return currentdf\n",
    "\n",
    "np.arange(1978,2019)\n",
    "year_range = np.arange(1978, 2019)\n",
    "directory = './'\n",
    "for num in year_range:  \n",
    "    curdf = load_data(directory, num) \n",
    "    if num == 1978:\n",
    "        alldata = curdf\n",
    "    else:\n",
    "        alldata = pd.concat([alldata, curdf])"
   ]
  },
  {
   "cell_type": "code",
   "execution_count": 119,
   "metadata": {},
   "outputs": [],
   "source": [
    "##Only keep Toronto home games\n",
    "tordata = alldata[alldata[6] == 'TOR']"
   ]
  },
  {
   "cell_type": "code",
   "execution_count": 120,
   "metadata": {},
   "outputs": [],
   "source": [
    "tordata = tordata.reset_index(drop = True) ## Reset index. Old one is based on all the other teams\n",
    "tordata[0]=pd.to_datetime(tordata[0],format='%Y%m%d')  ## convert to datetime\n",
    "tordata.set_index(0, inplace = True) ## set datetime as index"
   ]
  },
  {
   "cell_type": "code",
   "execution_count": 121,
   "metadata": {},
   "outputs": [],
   "source": [
    "###Extract relevant columns \n",
    "data = tordata[[1, 2, 3, 4, 12, 13, 17, 23,51, 9, 10]]\n",
    "data.columns = ['GameType','DayOfWeek','VisitingTeam_Team','VisitingTeam_League','DayNight','Completion','Attendance','VisitingTeam_Hits','HomeTeam_Hits','VisitingScore','HomeScore']\n"
   ]
  },
  {
   "cell_type": "code",
   "execution_count": 122,
   "metadata": {},
   "outputs": [],
   "source": [
    "## Create Winner column based PointDifferential\n",
    "data['PointDifferential'] = data['HomeScore'] - data['VisitingScore']\n",
    "data.loc[data['PointDifferential'] > 0, 'Winner'] = 'W'\n",
    "data.loc[data['PointDifferential'] < 0, 'Winner'] = 'L'"
   ]
  },
  {
   "cell_type": "code",
   "execution_count": 123,
   "metadata": {},
   "outputs": [],
   "source": [
    "data = data.loc[data['GameType'] != 1] ## Exclude one game of double-header that has no attendance"
   ]
  },
  {
   "cell_type": "code",
   "execution_count": 124,
   "metadata": {},
   "outputs": [],
   "source": [
    "## Assign a game number for each game of each season\n",
    "gamesperyear = data.groupby(data.index.year)['GameType'].count().values ## Determine amount of games/year\n",
    "data['GameNumber'] = \"\"\n",
    "for i, year in enumerate(data.index.year.unique().values):\n",
    "    data.loc[data.index.year == year, 'GameNumber'] = list(range(1,gamesperyear[i]+1))"
   ]
  },
  {
   "cell_type": "code",
   "execution_count": 125,
   "metadata": {},
   "outputs": [],
   "source": [
    "## WinnerNumber column is useful for calculating WinLossRatio (next cell)\n",
    "data['WinnerNumber'] = \"\"\n",
    "data.loc[data['Winner'] == 'W', 'WinnerNumber'] = 1\n",
    "data.loc[data['Winner'] == 'L', 'WinnerNumber'] = -1"
   ]
  },
  {
   "cell_type": "code",
   "execution_count": 126,
   "metadata": {},
   "outputs": [],
   "source": [
    "## Import weather data, set it to index\n",
    "AllWheather_df = pd.read_csv('./Data/weatherstats_toronto_daily.csv',usecols = ['date','max_temperature','max_relative_humidity','max_wind_speed','avg_visibility','precipitation'])\n",
    "AllWheather_df['date']=pd.to_datetime(AllWheather_df['date'], format='%y-%m-%d')\n",
    "AllWheather_df.set_index('date', inplace = True)"
   ]
  },
  {
   "cell_type": "code",
   "execution_count": 127,
   "metadata": {},
   "outputs": [],
   "source": [
    "data = data.join(AllWheather_df,how='left')"
   ]
  },
  {
   "cell_type": "code",
   "execution_count": 128,
   "metadata": {},
   "outputs": [],
   "source": [
    "data['year']=data.index.year\n",
    "data['month']=data.index.month"
   ]
  },
  {
   "cell_type": "code",
   "execution_count": 129,
   "metadata": {},
   "outputs": [],
   "source": [
    "## Create Homeopener variable\n",
    "data.loc[data['GameNumber'] == 1, 'HomeOpener'] = 1\n",
    "data.loc[data['GameNumber'] != 1, 'HomeOpener'] = 0"
   ]
  },
  {
   "cell_type": "code",
   "execution_count": 130,
   "metadata": {},
   "outputs": [],
   "source": [
    "### Add soccer game information\n",
    "soccer_df=pd.read_csv('./data/soccer.csv')\n",
    "soccer_df['Date'] = pd.to_datetime(soccer_df['Date'], format='%Y-%m-%d')\n",
    "soccer_df.set_index('Date', inplace = True)\n",
    "soccer_df = soccer_df[soccer_df['Home'] == 'Toronto'] ##only keep toronto home games\n",
    "soccer_df['Soccergame'] = 1 ## Predictor will be binary yes/no soccer game\n",
    "soccer_df = soccer_df.drop(['Game #','Home','HomeScore','Visitor','Attendance','VisitorScore'],axis=1) ##drop irrelevant columns"
   ]
  },
  {
   "cell_type": "code",
   "execution_count": 131,
   "metadata": {},
   "outputs": [],
   "source": [
    "data = data.join(soccer_df, how='left')"
   ]
  },
  {
   "cell_type": "code",
   "execution_count": 132,
   "metadata": {},
   "outputs": [],
   "source": [
    "data['Soccergame'] = data['Soccergame'].fillna(0)"
   ]
  },
  {
   "cell_type": "code",
   "execution_count": 133,
   "metadata": {},
   "outputs": [],
   "source": [
    "data.loc[data['DayNight'] == 'D', 'DayNight'] = 0\n",
    "data.loc[data['DayNight'] == 'N', 'DayNight'] = 1"
   ]
  },
  {
   "cell_type": "code",
   "execution_count": null,
   "metadata": {},
   "outputs": [],
   "source": []
  },
  {
   "cell_type": "code",
   "execution_count": 134,
   "metadata": {},
   "outputs": [],
   "source": [
    "### For win/loss ratio, load data generated by WinLossRatioForOtherTeams\n",
    "yankees_df = pd.read_csv('NYA.csv',usecols=['0','NYA_WinLossRatio'])\n",
    "orioles_df = pd.read_csv('BAL.csv',usecols=['0','BAL_WinLossRatio'])\n",
    "redsox_df = pd.read_csv('BOS.csv',usecols=['0','BOS_WinLossRatio'])\n",
    "torontoaway_df = pd.read_csv('TOR.csv',usecols=['0','WinLossRatio','WinLossRatioLast10'])"
   ]
  },
  {
   "cell_type": "code",
   "execution_count": 136,
   "metadata": {},
   "outputs": [],
   "source": [
    "## Set datetime\n",
    "def setdatetime(df):\n",
    "    df['0'] = pd.to_datetime(df['0'],format= '%Y-%m-%d')\n",
    "    df.set_index('0',inplace=True,drop=True)\n",
    "\n",
    "setdatetime(yankees_df)\n",
    "setdatetime(orioles_df)\n",
    "setdatetime(redsox_df)\n",
    "setdatetime(torontoaway_df)"
   ]
  },
  {
   "cell_type": "code",
   "execution_count": null,
   "metadata": {},
   "outputs": [],
   "source": []
  },
  {
   "cell_type": "code",
   "execution_count": 137,
   "metadata": {},
   "outputs": [],
   "source": [
    "## Columns to keep for machine learning\n",
    "ShortTermPred_df = data[['DayOfWeek','VisitingTeam_Team','DayNight','Attendance','GameNumber','max_temperature','precipitation','year','month','HomeOpener','Soccergame']]\n",
    "ShortTermPred_df.dropna(inplace=True)"
   ]
  },
  {
   "cell_type": "code",
   "execution_count": null,
   "metadata": {},
   "outputs": [],
   "source": [
    "##Merge win/loss ratio from other teams into main DF\n",
    "ShortTermPred_df = pd.merge_asof(ShortTermPred_df, yankees_df, left_index=True, right_index=True)\n",
    "ShortTermPred_df = pd.merge_asof(ShortTermPred_df, orioles_df, left_index=True, right_index=True)\n",
    "ShortTermPred_df = pd.merge_asof(ShortTermPred_df, redsox_df, left_index=True, right_index=True)\n",
    "ShortTermPred_df = pd.merge_asof(ShortTermPred_df, torontoaway_df, left_index=True, right_index=True)"
   ]
  },
  {
   "cell_type": "code",
   "execution_count": 112,
   "metadata": {},
   "outputs": [],
   "source": [
    "## Calculate Gamesback variable\n",
    "ShortTermPred_df['GamesBack'] = ShortTermPred_df['WinLossRatio'] - ShortTermPred_df[['NYA_WinLossRatio','BAL_WinLossRatio','BOS_WinLossRatio']].max(axis=1) "
   ]
  },
  {
   "cell_type": "code",
   "execution_count": 113,
   "metadata": {},
   "outputs": [],
   "source": [
    "## Get holidays column\n",
    "\n",
    "from datetime import date\n",
    "import holidays\n",
    "holidaylist=[]\n",
    "for date, name in sorted(holidays.CA(state='ON', years=range(1977,2020)).items()):\n",
    "    holidaylist.append(date)\n",
    "    \n",
    "ShortTermPred_df['Holidays'] = \"\"\n",
    "ShortTermPred_df.loc[ShortTermPred_df.index.isin(holidaylist), 'Holidays'] = 1\n",
    "ShortTermPred_df.loc[ShortTermPred_df.index.isin(holidaylist) == False, 'Holidays'] = 0"
   ]
  },
  {
   "cell_type": "code",
   "execution_count": 114,
   "metadata": {},
   "outputs": [],
   "source": [
    "## Blue Jays moved to new stadium in 1989\n",
    "ShortTermPred_df.loc[ShortTermPred_df.index.year < 1989,'Stadium'] = 0\n",
    "ShortTermPred_df.loc[ShortTermPred_df.index.year > 1988,'Stadium'] = 1"
   ]
  },
  {
   "cell_type": "code",
   "execution_count": null,
   "metadata": {},
   "outputs": [],
   "source": []
  },
  {
   "cell_type": "code",
   "execution_count": 115,
   "metadata": {},
   "outputs": [],
   "source": [
    "ShortTermPred_df.to_csv('ShortTermPred.csv') ## File used for machine learning"
   ]
  },
  {
   "cell_type": "code",
   "execution_count": 116,
   "metadata": {},
   "outputs": [],
   "source": [
    "###Get historical data for attendance by day of week for web app\n",
    "HistoricalPerday_df = pd.DataFrame(ShortTermPred_df.groupby('DayOfWeek')['Attendance'].mean().sort_values(ascending=False))\n",
    "HistoricalPerday_df.index=['Saturday','Sunday','Friday','Thursday','Wednesday','Monday','Tuesday']\n",
    "HistoricalPerday_df.to_csv('HistoricalAttendanceByDay.csv')"
   ]
  }
 ],
 "metadata": {
  "kernelspec": {
   "display_name": "Python 3",
   "language": "python",
   "name": "python3"
  },
  "language_info": {
   "codemirror_mode": {
    "name": "ipython",
    "version": 3
   },
   "file_extension": ".py",
   "mimetype": "text/x-python",
   "name": "python",
   "nbconvert_exporter": "python",
   "pygments_lexer": "ipython3",
   "version": "3.6.5"
  }
 },
 "nbformat": 4,
 "nbformat_minor": 2
}
