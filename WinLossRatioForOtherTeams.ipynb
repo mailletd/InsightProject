{
 "cells": [
  {
   "cell_type": "code",
   "execution_count": 241,
   "metadata": {},
   "outputs": [],
   "source": [
    "import os\n",
    "import pandas as pd\n",
    "import numpy as np\n",
    "import warnings; warnings.simplefilter('ignore')"
   ]
  },
  {
   "cell_type": "code",
   "execution_count": 242,
   "metadata": {},
   "outputs": [
    {
     "data": {
      "text/plain": [
       "(92291, 161)"
      ]
     },
     "execution_count": 242,
     "metadata": {},
     "output_type": "execute_result"
    }
   ],
   "source": [
    "## Load data\n",
    "\n",
    "def load_data(directory, year):\n",
    "    file_path = directory + \"gl1990-2018/GL\" + str(year) + \".TXT\"\n",
    "    currentdf = pd.read_csv(file_path,sep=',',header=None)\n",
    "    return currentdf\n",
    "\n",
    "np.arange(1978,2019)\n",
    "year_range = np.arange(1978, 2019)\n",
    "directory = './'\n",
    "for num in year_range:  \n",
    "    curdf = load_data(directory, num) \n",
    "    if num == 1978:\n",
    "        alldata = curdf\n",
    "    else:\n",
    "        alldata = pd.concat([alldata, curdf])"
   ]
  },
  {
   "cell_type": "code",
   "execution_count": 243,
   "metadata": {},
   "outputs": [],
   "source": [
    "def HistoricalWinLoss(team): ##BAL, BOS, NYA, TOR\n",
    "    data = alldata.loc[(alldata[6] == team) | (alldata[3] == team)] ## home and away columns\n",
    "    \n",
    "    data[0]=pd.to_datetime(data[0],format='%Y%m%d')  ## convert to datetime\n",
    "    data.set_index(0, inplace = True) ## set datetime as index\n",
    "    \n",
    "    data = data[[1, 2, 3, 4, 6, 12, 13, 17, 23,51, 9, 10]] ##Useful columns\n",
    "    data.columns = ['GameType','DayOfWeek','VisitingTeam_Team','VisitingTeam_League','HomeTeam','DayNight','Completion','Attendance','VisitingTeam_Hits','HomeTeam_Hits','VisitingScore','HomeScore']\n",
    "    \n",
    "    \n",
    "    data = data.loc[data['GameType'] != 1] ## Exclude one game of double-header that has no attendance\n",
    "    \n",
    "    ## Create Winner column based PointDifferential\n",
    "    # Calcualtion differs based on whether Toronto is home or away team\n",
    "    data.loc[data['HomeTeam'] ==team,'PointDifferential'] = data['HomeScore'] - data['VisitingScore']\n",
    "    data.loc[(data['HomeTeam'] ==team) & (data['PointDifferential'] > 0), 'Winner'] = 'W'\n",
    "    data.loc[(data['HomeTeam'] ==team) & (data['PointDifferential'] < 0), 'Winner'] = 'L'\n",
    "\n",
    "    data.loc[data['VisitingTeam_Team'] ==team,'PointDifferential'] = data['VisitingScore'] - data['HomeScore']\n",
    "    data.loc[(data['VisitingTeam_Team'] ==team) & (data['PointDifferential'] > 0), 'Winner'] = 'W'\n",
    "    data.loc[(data['VisitingTeam_Team'] ==team) & (data['PointDifferential'] < 0), 'Winner'] = 'L'\n",
    "\n",
    "    ## Assign a game number for each game of each season\n",
    "    gamesperyear = data.groupby(data.index.year)['GameType'].count().values ## Determine amount of games/year\n",
    "    data['GameNumber'] = \"\"\n",
    "    for i, year in enumerate(data.index.year.unique().values):\n",
    "        data.loc[data.index.year == year, 'GameNumber'] = list(range(1,gamesperyear[i]+1))\n",
    "        \n",
    "    ## WinnerNumber column is useful for calculating WinLossRatio (see next)\n",
    "    data['WinnerNumber'] = \"\"\n",
    "    data.loc[data['Winner'] == 'W', 'WinnerNumber'] = 1\n",
    "    data.loc[data['Winner'] == 'L', 'WinnerNumber'] = -1\n",
    "    data.loc[data['PointDifferential'] == 0, 'WinnerNumber'] = 0\n",
    "    \n",
    "    ## Create Winlossratio column which calculates win/loss for all prior games in a season\n",
    "    ## Also creates WinLossRatioLast10 which is win/loss ratio for last 10 games\n",
    "\n",
    "    data['WinLossRatio'] = ''\n",
    "    data['WinLossRatioLast10'] = ''\n",
    "\n",
    "    for j, year in enumerate(data.index.year.unique().values):\n",
    "        i = gamesperyear[j]\n",
    "        ## Win/loss for all season\n",
    "        data.loc[(data.index.year == year) & (data['GameNumber'] == 1),'WinLossRatio'] = 0\n",
    "        data.loc[(data.index.year == year) & (data['GameNumber'].isin(list(range(2,i+1)))),'WinLossRatio'] = data.loc[data.index.year == year,'WinnerNumber'].cumsum()[:-1].values\n",
    "    \n",
    "        ## Win/loss for last 10 games\n",
    "        data.loc[(data.index.year == year) & (data['GameNumber'] == 1),'WinLossRatioLast10'] = 0\n",
    "        data.loc[(data.index.year == year) & (data['GameNumber'].isin(list(range(2,i+1)))),'WinLossRatioLast10'] = data.loc[data.index.year == year,'WinnerNumber'].rolling(min_periods=1, window=10).sum()[:-1].values  \n",
    "    \n",
    "    ##Eventually going to merge all winloss columns into single dataframe, they neeed different names\n",
    "    if team == 'TOR':\n",
    "        pass\n",
    "    else: \n",
    "        data.rename(index=str, columns={\"WinLossRatio\": team+\"_WinLossRatio\", 'WinLossRatioLast10' : team+\"_WinLossRatioLast10\"},inplace = True)\n",
    "    \n",
    "    data.to_csv(str(team) +'.csv')\n",
    "        "
   ]
  },
  {
   "cell_type": "code",
   "execution_count": 244,
   "metadata": {},
   "outputs": [],
   "source": [
    "HistoricalWinLoss('BAL')\n",
    "HistoricalWinLoss('BOS')\n",
    "HistoricalWinLoss('TOR')\n",
    "HistoricalWinLoss('NYA')"
   ]
  }
 ],
 "metadata": {
  "kernelspec": {
   "display_name": "Python 3",
   "language": "python",
   "name": "python3"
  },
  "language_info": {
   "codemirror_mode": {
    "name": "ipython",
    "version": 3
   },
   "file_extension": ".py",
   "mimetype": "text/x-python",
   "name": "python",
   "nbconvert_exporter": "python",
   "pygments_lexer": "ipython3",
   "version": "3.6.5"
  }
 },
 "nbformat": 4,
 "nbformat_minor": 2
}
